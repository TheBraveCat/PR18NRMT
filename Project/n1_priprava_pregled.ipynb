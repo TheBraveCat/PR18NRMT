{
 "cells": [
  {
   "cell_type": "markdown",
   "metadata": {},
   "source": [
    "### Podatkovno rudarjenje, 1. domača naloga, 9. 3. 2018\n",
    "\n",
    "# Priprava podatkov, osnovne statistike in vizualizacija"
   ]
  },
  {
   "cell_type": "markdown",
   "metadata": {},
   "source": [
    "**Ime in priimek** **VPIŠI !!!** Nejc Rajšel, 63150233"
   ]
  },
  {
   "cell_type": "markdown",
   "metadata": {},
   "source": [
    "Neizogiben del vsakega projekta na področju podatkovnega rudarjenja je iskanje,\n",
    "urejanje in priprava podatkov. V tej nalogi boste spoznali primer podatkovne\n",
    "zbirke in uporabili postopke za pretvorbo podatkov v ustrezno obliko ter pregled in prikaz\n",
    "osnovnih statistik.\n",
    "\n",
    "### Oddaja\n",
    "Zapišite kodo in odgovore v spodnje celice. Tako pripravljen notebook shranite v vaš repozitorij za domače naloge na *github*. V učilnici oddajte le povezavo do notebooka v vašem repozitoriju, n.pr.: https://github.com/vašeuporabniškoime/PR18DNvz/dn1/poročilo.ipynb.\n",
    "\n",
    "Za bolj podrobna navodila, glejte razdelek \"Domače naloge\" v [spletni učilnici predmeta](https://ucilnica.fri.uni-lj.si/course/view.php?id=37)."
   ]
  },
  {
   "cell_type": "markdown",
   "metadata": {},
   "source": [
    "## Podatki\n",
    "\n",
    "V nalogi boste pregledali in pripravili podatke gledanosti Hollywoodskih filmov\n",
    "zbirke [MovieLens](https://grouplens.org/datasets/movielens/) v obdobju **1995-2016**. Podatke naložite iz [spletne učilnice](https://ucilnica.fri.uni-lj.si/mod/resource/view.php?id=19230).\n",
    "\n",
    "Iste podatke boste uporabili v vseh domačih nalogah, zato jih dodobra spoznajte. Gre za podatkovno zbirko za\n",
    "vrednotenje priporočilnih sistemov, ki vsebuje gledalce ter njihove ocene za posamezni film na lestvici 1 do 5.  \n",
    "Poleg osnovne matrike uporabnikov in ocen vsebuje še dodatne podatke o filmih (npr. žanr, datum, oznake,\n",
    "igralci).\n",
    "\n",
    "Podatkovna zbirka vsebuje naslednje datoteke:\n",
    "\n",
    "* ratings.csv: podatki o uporabnikih in ocenah,\n",
    "* movies.csv: podatki o žanrih filmov,\n",
    "* cast.csv: podatki o igralcih,\n",
    "* tags.csv: podatki o oznakah (ang. \\emph{tags}),\n",
    "* links.csv: povezave na sorodne podatkovne zbirke.\n",
    "\n",
    "\n",
    "Pred pričetkom reševanja naloge si dobro oglejte podatke in datoteko **README.txt**. Podrobnosti o zbirki lahko preberete na [spletni strani](http://files.grouplens.org/datasets/movielens/ml-latest-small-README.html).\n",
    "\n",
    "Pripravite metode za nalaganje podatkov v ustrezne podatkovne strukture. Te vam bodo prišle\n",
    "prav tudi pri nadaljnjih nalogah.\n",
    "Bodite pozorni na velikost podatkov."
   ]
  },
  {
   "cell_type": "code",
   "execution_count": 123,
   "metadata": {},
   "outputs": [],
   "source": [
    "# tu zapišite kodo za branje datotek in pripravo ustreznih matrik (in drugih struktur) podatkov,\n",
    "# ki jih boste uporabi pri odgovarjanju na spodnja vprašanja\n",
    "\n",
    "import pandas as pd\n",
    "import matplotlib.image as img\n",
    "import matplotlib.pyplot as plt\n",
    "plt.style.use('PR.mplstyle')\n",
    "\n",
    "castFile = pd.read_csv('ml-latest-small/cast.csv', sep=',')\n",
    "linksFile = pd.read_csv('ml-latest-small/links.csv', sep=',')\n",
    "moviesFile = pd.read_csv('ml-latest-small/movies.csv', sep=',')\n",
    "ratingsFile = pd.read_csv('ml-latest-small/ratings.csv', sep=',')\n",
    "tagsFile = pd.read_csv('ml-latest-small/tags.csv', sep=',')\n"
   ]
  },
  {
   "cell_type": "markdown",
   "metadata": {},
   "source": [
    "## Vprašanja\n",
    "\n",
    "Glavni namen podatkovnega rudarjenja je *odkrivanje znanj iz podatkov*,\n",
    "torej odgovarjanje na vprašanja z uporabo računskih postopkov.\n",
    "\n",
    "Z uporabo principov, ki ste jih spoznali na vajah in predavanjih, odgovorite na\n",
    "spodnja vprašanja. Pri vsakem vprašanju dobro premislite, na kakšen način boste\n",
    "najbolje podali, prikazali oz. utemeljili odgovor. Bistven del so odgovori na\n",
    "vprašanja in ne implementacija vaše rešitve."
   ]
  },
  {
   "cell_type": "markdown",
   "metadata": {},
   "source": [
    "### 1. vprašanje (15%):\n",
    "Kateri filmi so v povprečju najbolje ocenjeni?  Pripravite seznam\n",
    "filmov ter njihovih povprečnih ocen in izpišite po 10 filmov z vrha seznama.\n",
    "Opazite pri takem ocenjevanju kakšno težavo? Kako bi jo lahko rešili? Kakšni so\n",
    "rezultati tedaj?"
   ]
  },
  {
   "cell_type": "code",
   "execution_count": 233,
   "metadata": {},
   "outputs": [
    {
     "name": "stdout",
     "output_type": "stream",
     "text": [
      "         rating\n",
      "movieId        \n",
      "163949     5.00\n",
      "7574       5.00\n",
      "26094      5.00\n",
      "120805     5.00\n",
      "4755       5.00\n",
      "121126     5.00\n",
      "4731       5.00\n",
      "122888     5.00\n",
      "4724       5.00\n",
      "4717       5.00\n",
      "4711       5.00\n",
      "84414      5.00\n",
      "7564       5.00\n",
      "50703      5.00\n",
      "4591       5.00\n",
      "126430     5.00\n",
      "127052     5.00\n",
      "127108     5.00\n",
      "83411      5.00\n",
      "83359      5.00\n",
      "83318      5.00\n",
      "4632       5.00\n",
      "4626       5.00\n",
      "82608      5.00\n",
      "4617       5.00\n",
      "51471      5.00\n",
      "49280      5.00\n",
      "4789       5.00\n",
      "4796       5.00\n",
      "26150      5.00\n",
      "...         ...\n",
      "2880       5.00\n",
      "3580       5.00\n",
      "3281       5.00\n",
      "3575       5.00\n",
      "3837       5.00\n",
      "3737       5.00\n",
      "59273      5.00\n",
      "3757       5.00\n",
      "3165       5.00\n",
      "2897       5.00\n",
      "3851       5.00\n",
      "67504      5.00\n",
      "69761      5.00\n",
      "160590     5.00\n",
      "3202       5.00\n",
      "150856     5.00\n",
      "147037     5.00\n",
      "3038       5.00\n",
      "9010       5.00\n",
      "4114       5.00\n",
      "59392      5.00\n",
      "140265     5.00\n",
      "162542     5.00\n",
      "57038      5.00\n",
      "74089      5.00\n",
      "86000      4.75\n",
      "7700       4.75\n",
      "7459       4.75\n",
      "73587      4.75\n",
      "3966       4.75\n",
      "\n",
      "[320 rows x 1 columns]\n"
     ]
    }
   ],
   "source": [
    "# računanje povprečja\n",
    "ratingOnly = ratingsFile.groupby(['movieId', 'rating']).sum().reset_index().groupby('movieId').mean().iloc[:,:1]\n",
    "\n",
    "ratingOnly = ratingOnly.sort_values(by='rating', ascending=False)[:320] # index <= 315 ==> vsi ocene 5\n",
    "print(ratingOnly)\n",
    "\n",
    "rating = ratingsFile.groupby(['movieId', 'rating']).sum().reset_index().groupby('movieId').mean().reset_index()\n",
    "rating = rating[['rating']]\n",
    "\n",
    "ratingColumn = rating\n"
   ]
  },
  {
   "cell_type": "code",
   "execution_count": 207,
   "metadata": {},
   "outputs": [
    {
     "name": "stdout",
     "output_type": "stream",
     "text": [
      "                                            Movie Title  Rating\n",
      "9065  The Beatles: Eight Days a Week - The Touring Y...     5.0\n",
      "5173              Maborosi (Maboroshi no hikari) (1995)     5.0\n",
      "5716                       Eclisse, L' (Eclipse) (1962)     5.0\n",
      "8735  Robin Williams: Weapons of Self Destruction (2...     5.0\n",
      "3727                            Wish Upon a Star (1996)     5.0\n",
      "8738                                     The Car (1977)     5.0\n",
      "3707                                   Innocence (2000)     5.0\n",
      "8746                                     Ben-hur (2016)     5.0\n",
      "3703                                 On the Edge (2001)     5.0\n",
      "3696         Battle Creek Brawl (Big Brawl, The) (1980)     5.0\n"
     ]
    }
   ],
   "source": [
    "# izpis najboljše ocenjenih filmov\n",
    "rating = rating.sort_values(by='rating', ascending=False)[:10]\n",
    "rating['movieId'] = rating['movieId'].replace(moviesFile.set_index('movieId')['title'])\n",
    "\n",
    "rating.columns = ['Movie Title', 'Rating']\n",
    "print(rating)\n"
   ]
  },
  {
   "cell_type": "markdown",
   "metadata": {},
   "source": [
    "**Odgovor:** Težava je v tem ker je več filmov z oceno 5.0 kot 10 in nemoremo vedeti katerih je top 10, teh je natančno 315. Morda je težava tudi v tem, da je preveč filmov z oceno 5.0, saj je morda te filme ocenilo manj ljudi, zato je posledično tudi povprečna ocena filma premalo natančna. To težavo bi lahko rešili tako, da bi filme ocenjevalo čim večje število ljudi."
   ]
  },
  {
   "cell_type": "markdown",
   "metadata": {},
   "source": [
    "### 2. vprašanje (15%):\n",
    "Posamezni film pripada enemu ali več žanrom. \n",
    "Koliko je vseh žanrov? Prikaži porazdelitev žanrov z uporabo ustrezne\n",
    "vizualizacije."
   ]
  },
  {
   "cell_type": "code",
   "execution_count": 243,
   "metadata": {},
   "outputs": [
    {
     "name": "stdout",
     "output_type": "stream",
     "text": [
      "To so vsi žanri:\n",
      "Drama\n",
      "Documentary\n",
      "Western\n",
      "Fantasy\n",
      "Crime\n",
      "Adventure\n",
      "Children\n",
      "Musical\n",
      "Comedy\n",
      "Romance\n",
      "Film-Noir\n",
      "Thriller\n",
      "Horror\n",
      "Sci-Fi\n",
      "IMAX\n",
      "Animation\n",
      "War\n",
      "Mystery\n",
      "Action\n"
     ]
    }
   ],
   "source": [
    "# izpis vseh žanrov\n",
    "genres = moviesFile['genres'].str.split('|')\n",
    "setGenres = set()\n",
    "\n",
    "for line in genres:\n",
    "    for genre in line:\n",
    "        if(genre not in setGenres and genre != '(no genres listed)'):\n",
    "            setGenres.add(genre)\n",
    "\n",
    "print('To so vsi žanri:')\n",
    "for genre in setGenres:\n",
    "    print(genre)\n"
   ]
  },
  {
   "cell_type": "code",
   "execution_count": 197,
   "metadata": {},
   "outputs": [
    {
     "data": {
      "text/plain": [
       "<matplotlib.axes._subplots.AxesSubplot at 0x16653ff72b0>"
      ]
     },
     "execution_count": 197,
     "metadata": {},
     "output_type": "execute_result"
    },
    {
     "data": {
      "image/png": "[encoded data removed]",
      "text/plain": [
       "<matplotlib.figure.Figure at 0x166547ae438>"
      ]
     },
     "metadata": {},
     "output_type": "display_data"
    }
   ],
   "source": [
    "# vizualizacija števila filmov, ki pripadajo določenim žanrom\n",
    "dictGenres = {}\n",
    "for line in genres:\n",
    "    for genre in line:\n",
    "        if not genre in dictGenres:\n",
    "            dictGenres[genre] = 1\n",
    "        else:\n",
    "            dictGenres[genre] += 1\n",
    "        \n",
    "#print(dictGenres)\n",
    "dfGenres  = pd.Series(dictGenres, index=dictGenres.keys())\n",
    "\n",
    "#print(dfGenres)\n",
    "\n",
    "dfGenres.plot(kind='barh', figsize=(13, 8), fontsize=12, title='Št. filmov, ki pripadajo določenemu žanru', \n",
    "             xticks=(0, 500, 1000, 1500, 2000, 2500, 3000, 3500, 4000))"
   ]
  },
  {
   "cell_type": "markdown",
   "metadata": {},
   "source": [
    "**Odgovor:** Vseh žanrov je 19."
   ]
  },
  {
   "cell_type": "markdown",
   "metadata": {},
   "source": [
    "### 3. vprašanje (20%):\n",
    "Število ocen (ogledov) se za posamezni film razlikuje. Ali\n",
    "obstaja povezava med gledanostjo in povprečno oceno filma? Opišite postopek, ki\n",
    "ste ga uporabili pri odgovarjanju na vprašanje."
   ]
  },
  {
   "cell_type": "code",
   "execution_count": 242,
   "metadata": {},
   "outputs": [
    {
     "name": "stdout",
     "output_type": "stream",
     "text": [
      "    Movie ID  Num. of ratings    Rating\n",
      "0          1              247  3.000000\n",
      "1          2              107  3.250000\n",
      "2          3               59  2.750000\n",
      "3          4               13  2.200000\n",
      "4          5               56  3.187500\n",
      "5          6              104  3.187500\n",
      "6          7               53  2.714286\n",
      "7          8                5  3.333333\n",
      "8          9               20  3.000000\n",
      "9         10              122  3.000000\n",
      "10        11               82  3.000000\n",
      "11        12               18  3.083333\n",
      "12        13                8  3.800000\n",
      "13        14               31  3.333333\n",
      "14        15               11  2.500000\n",
      "15        16               88  3.187500\n",
      "16        17               86  3.187500\n",
      "17        18               26  2.812500\n",
      "18        19               92  2.750000\n",
      "19        20               13  2.714286\n"
     ]
    }
   ],
   "source": [
    "ratings = ratingsFile.groupby(['movieId']).count().reset_index()\n",
    "ratings = ratings[['movieId', 'userId']]\n",
    "\n",
    "ratings = ratings.join(ratingColumn)\n",
    "\n",
    "ratings.columns = ['Movie ID', 'Num. of ratings', 'Rating']\n",
    "\n",
    "print(ratings[:20])\n"
   ]
  },
  {
   "cell_type": "markdown",
   "metadata": {},
   "source": [
    "**Odgovor:** Povezave med gledanostjo (št. ocen - ogledov) in povprečno oceno ni, saj večje število ocen ne pomeni boljše povprečne ocene. Večje število ogledov pomeni bolj natančno (realno) povprečno oceno."
   ]
  },
  {
   "cell_type": "markdown",
   "metadata": {},
   "source": [
    "### 4. vprašanje (30%):\n",
    "Vsaka ocena je bila vnešena na določen datum (stolpec\n",
    "*timestamp*).  Ali se popularnost posameznih filmov s časom spreminja?\n",
    "Problem reši tako, da za dani film ocene razporediš po času ter v vsaku časovni\n",
    "točki izračunaš povprečje za zadnjih 30, 50, ali 100 ocen. Nariši graf, kako se\n",
    "ocena spreminja in ga prikaži za dva zanimiva primera filmov."
   ]
  },
  {
   "cell_type": "code",
   "execution_count": 6,
   "metadata": {},
   "outputs": [],
   "source": [
    "# kodo lahko razdelite v več celic"
   ]
  },
  {
   "cell_type": "markdown",
   "metadata": {},
   "source": [
    "**Odgovor:** "
   ]
  },
  {
   "cell_type": "markdown",
   "metadata": {},
   "source": [
    "### 5. vprašanje (20%):\n",
    "Kako bi ocenili popularnost posameznih igralcev? Opišite postopek\n",
    "ocenitve ter izpišite 10 najbolj popularnih igralcev."
   ]
  },
  {
   "cell_type": "code",
   "execution_count": 7,
   "metadata": {},
   "outputs": [],
   "source": [
    "# kodo lahko razdelite v več celic"
   ]
  },
  {
   "cell_type": "markdown",
   "metadata": {},
   "source": [
    "**Odgovor:** "
   ]
  },
  {
   "cell_type": "markdown",
   "metadata": {},
   "source": [
    "### bonus vprašanje (5%):\n",
    "\n",
    "Kateri je tvoj najljubši film? Zakaj?"
   ]
  },
  {
   "cell_type": "markdown",
   "metadata": {},
   "source": [
    "**Odgovor:** Moj najljubši film je Megan Leavey, saj se celoten film vrti okoli punce, ki je bila izločena iz družne in si želi postati vojakinja. Ko pa pride v vojsko ima pa željo postati vodnik za psa, ki išče razna eksplozivna sredstva. Ko se ji želje uresničijo jo pošlejo na misijo z psom. Tam v enem od preizkovanj pride do eksplozije mine in v tej eksploziji sta poškodovana ona ter njen pes. Ker se je skozi ure treninga s tem psom tudi na njega navezala, se kmalu po okrevanju odloči, da misije za njo niso več \"zanimive\". Po upokojitvi hoče dobiti skrbništvo za njenega psa pa tega nemore dobiti, saj pes še ni bil dovol star za pokoj in pa tudi naj bi bil preveč nevaren (napadalen) za civilno življenje. Ko to izve se bori na vse moči, da bi ga pridobila in na koncu ji to res rata. Film se me je resnično dotaknil, ker ko sem prvič gledal ta film sem tudi sam trpel za izgubo psa, ki je bil iste pasme kot pes v filmu. Film je tudi posnet po resničnih dogodkih. "
   ]
  },
  {
   "cell_type": "markdown",
   "metadata": {},
   "source": [
    "## Zapiski\n",
    "Za nalaganje podatkov lahko uporabite vgrajen modul `csv`. Mapa s podatki `ml-latest-small` se v tem primeru mora nahajati v isti mapi kot notebook."
   ]
  },
  {
   "cell_type": "code",
   "execution_count": 8,
   "metadata": {},
   "outputs": [],
   "source": [
    "from csv import DictReader\n",
    "\n",
    "reader = DictReader(open('ml-latest-small/ratings.csv', 'rt', encoding='utf-8'))\n",
    "for row in reader:\n",
    "    user = row[\"userId\"]\n",
    "    movie = row[\"movieId\"]\n",
    "    rating = row[\"rating\"]\n",
    "    timestamp = row[\"timestamp\"]"
   ]
  },
  {
   "cell_type": "markdown",
   "metadata": {},
   "source": [
    "Podatki v zadnji vrstici datoteke:"
   ]
  },
  {
   "cell_type": "code",
   "execution_count": 9,
   "metadata": {},
   "outputs": [
    {
     "data": {
      "text/plain": [
       "('671', '6565', '3.5', '1074784724')"
      ]
     },
     "execution_count": 9,
     "metadata": {},
     "output_type": "execute_result"
    }
   ],
   "source": [
    "user, movie, rating, timestamp"
   ]
  },
  {
   "cell_type": "markdown",
   "metadata": {},
   "source": [
    "Pretvorba časovnega formata (*Unix time*). Kode za oblikovanje so navedene v dokumentaciji modula [`datetime`](https://docs.python.org/3/library/datetime.html#strftime-and-strptime-behavior)."
   ]
  },
  {
   "cell_type": "code",
   "execution_count": 10,
   "metadata": {},
   "outputs": [
    {
     "data": {
      "text/plain": [
       "'2008-08-05 02:56'"
      ]
     },
     "execution_count": 10,
     "metadata": {},
     "output_type": "execute_result"
    }
   ],
   "source": [
    "from datetime import datetime\n",
    "\n",
    "t = 1217897793 # Unix-time\n",
    "ts = datetime.fromtimestamp(t).strftime('%Y-%m-%d %H:%M')\n",
    "ts"
   ]
  }
 ],
 "metadata": {
  "kernelspec": {
   "display_name": "Python 3",
   "language": "python",
   "name": "python3"
  },
  "language_info": {
   "codemirror_mode": {
    "name": "ipython",
    "version": 3
   },
   "file_extension": ".py",
   "mimetype": "text/x-python",
   "name": "python",
   "nbconvert_exporter": "python",
   "pygments_lexer": "ipython3",
   "version": "3.6.4"
  },
  "latex_envs": {
   "LaTeX_envs_menu_present": true,
   "autocomplete": true,
   "bibliofile": "biblio.bib",
   "cite_by": "apalike",
   "current_citInitial": 1,
   "eqLabelWithNumbers": true,
   "eqNumInitial": 1,
   "hotkeys": {
    "equation": "Ctrl-E",
    "itemize": "Ctrl-I"
   },
   "labels_anchors": false,
   "latex_user_defs": false,
   "report_style_numbering": false,
   "user_envs_cfg": false
  },
  "nbTranslate": {
   "displayLangs": [
    "*"
   ],
   "hotkey": "alt-t",
   "langInMainMenu": true,
   "sourceLang": "en",
   "targetLang": "fr",
   "useGoogleTranslate": true
  }
 },
 "nbformat": 4,
 "nbformat_minor": 2
}
